# Autonomous AI Sales Agent with LangChain
# Created: May 17, 2025

# Install required packages (run once in your environment)
# !pip install -q langchain langchain-openai playwright gspread oauth2client google-auth-oauthlib google-auth-httplib2 google-api-python-client tqdm bs4
# !playwright install chromium

# Import libraries
import os
import time
import random
import datetime
import pandas as pd
import requests
from bs4 import BeautifulSoup
import re
from google.colab import auth
import gspread
from oauth2client.client import GoogleCredentials
from googleapiclient.discovery import build
from email.mime.text import MIMEText
import base64
from tqdm import tqdm
from playwright.sync_api import sync_playwright
from langchain_openai import ChatOpenAI
from langchain.tools import Tool
from langchain.agents import initialize_agent, AgentType
from langchain.memory import ConversationBufferMemory
from langchain.prompts import PromptTemplate
from langchain.chains import LLMChain, SequentialChain

# Configuration
OPENAI_API_KEY = ""  # Your OpenAI API key
GOOGLE_SHEET_NAME = "AI_Sales_Agent_DB"
MAX_EMAILS_PER_DAY = 15
EMAIL_WAIT_MIN = 5
EMAIL_WAIT_MAX = 15
FOLLOW_UP_DAYS = 5
YOUR_NAME = "Your Name"
YOUR_COMPANY = "Your Company"
YOUR_EMAIL = "your.email@gmail.com"

# Initialize APIs
os.environ["OPENAI_API_KEY"] = OPENAI_API_KEY
llm = ChatOpenAI(model="gpt-4-turbo", temperature=0.7)

# Google API authentication
print("Authenticating with Google...")
auth.authenticate_user()
gc = gspread.authorize(GoogleCredentials.get_application_default())
service = build('gmail', 'v1', credentials=GoogleCredentials.get_application_default())

# Initialize Google Sheet
try:
    sheet = gc.open(GOOGLE_SHEET_NAME)
    leads_sheet = sheet.worksheet("Leads")
    emails_sheet = sheet.worksheet("Emails")
    print(f"Connected to existing Google Sheet '{GOOGLE_SHEET_NAME}'")
except:
    print(f"Creating new Google Sheet '{GOOGLE_SHEET_NAME}'...")
    sheet = gc.create(GOOGLE_SHEET_NAME)
    leads_sheet = sheet.worksheet("Sheet1")
    leads_sheet.update_title("Leads")
    leads_sheet.update([["Company", "Website", "Industry", "Contact Name", "Contact Email",
                         "Pain Points", "Status", "Last Contact", "Notes", "Source"]])
    emails_sheet = sheet.add_worksheet(title="Emails", rows=1000, cols=10)
    emails_sheet.update([["Timestamp", "Company", "Recipient", "Subject", "Email Body",
                         "Email Type", "Status", "Reply Date", "Reply Content", "Notes"]])
    print("Google Sheet created with 'Leads' and 'Emails' worksheets")

# Define Tools
def scrape_crunchbase_companies(keyword, num_results=3):
    """Simplified Crunchbase scraper (uses sample data for demo)."""
    print(f"Scraping Crunchbase for '{keyword}'...")
    # In production, use Crunchbase API or SerpAPI
    try:
        companies = get_sample_companies(keyword, num_results)  # Fallback to sample data
        return companies
    except Exception as e:
        print(f"Scraping error: {e}")
        return []

def get_sample_companies(keyword, num_results=3):
    """Generate sample company data."""
    sample_companies = {
        "saas": ["Salesforce", "HubSpot", "Slack"],
        "fintech": ["Stripe", "Square", "Robinhood"],
        "healthtech": ["Oscar Health", "Teladoc", "Hims & Hers"],
        "ecommerce": ["Shopify", "BigCommerce", "Etsy"],
        "ai": ["OpenAI", "DeepMind", "Anthropic"]
    }
    company_names = sample_companies.get(keyword.lower(), ["TechCorp", "InnovateAI", "DataSystems"])[:num_results]
    companies = []
    for name in company_names:
        domain = name.lower().replace(" ", "").replace("&", "and") + ".com"
        companies.append({
            "Company": name,
            "Website": f"https://{domain}",
            "Industry": keyword,
            "Contact Name": "",
            "Contact Email": f"info@{domain}",
            "Pain Points": "",
            "Status": "New",
            "Last Contact": "",
            "Notes": f"Sample data for {keyword}",
            "Source": "Sample Data"
        })
    return companies

def find_company_emails(website):
    """Find email addresses from a website."""
    try:
        response = requests.get(f"https://{website.replace('https://', '').replace('http://', '')}", timeout=10)
        email_pattern = r'[a-zA-Z0-9._%+-]+@[a-zA-Z0-9.-]+\\.[a-zA-Z]{2,}'
        emails = re.findall(email_pattern, response.text)
        domain = website.replace('https://', '').replace('http://', '').split('/')[0]
        company_emails = [email for email in emails if domain in email]
        return company_emails[0] if company_emails else ""
    except:
        return ""

def analyze_website(url):
    """Analyze a website using GPT for lead enrichment."""
    try:
        if not url.startswith('http'):
            url = 'https://' + url
        response = requests.get(url, timeout=10)
        soup = BeautifulSoup(response.text, 'html.parser')
        text_content = "".join(tag.get_text() + "\n" for tag in soup.find_all(['p', 'h1', 'h2', 'h3', 'li']))[:4000]
        
        prompt = PromptTemplate(
            input_variables=["content"],
            template="Analyze this website content and provide:\n1. Company description (1-2 sentences)\n2. Industry\n3. Potential pain points for AI solutions\n4. Target audience\n\nContent:\n{content}"
        )
        chain = LLMChain(llm=llm, prompt=prompt)
        analysis = chain.run(content=text_content)
        return analysis
    except Exception as e:
        return f"Error analyzing website: {str(e)}"

def add_leads_to_sheet(companies):
    """Add leads to Google Sheet."""
    existing_data = leads_sheet.get_all_values()
    existing_companies = [row[0] for row in existing_data[1:]] if len(existing_data) > 1 else []
    new_companies = [c for c in companies if c["Company"] not in existing_companies]
    
    if not new_companies:
        return 0
    
    rows = [[c["Company"], c["Website"], c["Industry"], c["Contact Name"], c["Contact Email"],
             c["Pain Points"], c["Status"], c["Last Contact"], c["Notes"], c["Source"]]
            for c in new_companies]
    leads_sheet.append_rows(rows)
    return len(rows)

def send_email(recipient, subject, body):
    """Send email via Gmail API."""
    try:
        message = MIMEText(body)
        message['to'] = recipient
        message['from'] = YOUR_EMAIL
        message['subject'] = subject
        raw_message = base64.urlsafe_b64encode(message.as_string().encode()).decode()
        send_message = service.users().messages().send(userId='me', body={'raw': raw_message}).execute()
        return True, send_message['id']
    except Exception as e:
        return False, str(e)

def log_email(company, recipient, subject, body, email_type, status):
    """Log email in Google Sheet."""
    timestamp = datetime.datetime.now().strftime("%Y-%m-%d %H:%M:%S")
    emails_sheet.append_row([timestamp, company, recipient, subject, body, email_type, status, "", "", ""])

# LangChain Tools
tools = [
    Tool(
        name="ScrapeCrunchbase",
        func=lambda input: scrape_crunchbase_companies(input["keyword"], input.get("num_results", 3)),
        description="Scrape companies from Crunchbase by keyword. Input: {'keyword': str, 'num_results': int}"
    ),
    Tool(
        name="FindEmails",
        func=lambda input: find_company_emails(input["website"]),
        description="Find email addresses from a website. Input: {'website': str}"
    ),
    Tool(
        name="AnalyzeWebsite",
        func=lambda input: analyze_website(input["url"]),
        description="Analyze a website for company info and pain points. Input: {'url': str}"
    ),
    Tool(
        name="AddLeadsToSheet",
        func=lambda input: add_leads_to_sheet(input["companies"]),
        description="Add companies to Google Sheet. Input: {'companies': list}"
    ),
    Tool(
        name="SendEmail",
        func=lambda input: send_email(input["recipient"], input["subject"], input["body"]),
        description="Send an email. Input: {'recipient': str, 'subject': str, 'body': str}"
    ),
    Tool(
        name="LogEmail",
        func=lambda input: log_email(input["company"], input["recipient"], input["subject"],
                                   input["body"], input["email_type"], input["status"]),
        description="Log email in Google Sheet. Input: {'company': str, 'recipient': str, 'subject': str, 'body': str, 'email_type': str, 'status': str}"
    )
]

# Initialize Agent with Memory
memory = ConversationBufferMemory(memory_key="chat_history", return_messages=True)
agent = initialize_agent(
    tools=tools,
    llm=llm,
    agent_type=AgentType.CHAT_CONVERSATIONAL_REACT_DESCRIPTION,
    memory=memory,
    verbose=True
)

# Multi-Step Prompt Chaining for Email Generation
email_prompt = PromptTemplate(
    input_variables=["company", "contact_name", "industry", "pain_points"],
    template="""Write a short, personalized cold email:
    - To: A potential client at {company} in the {industry} industry
    - From: {YOUR_NAME} at {YOUR_COMPANY}
    - Purpose: Offering AI automation solutions, addressing {pain_points}
    - Tone: Professional, helpful
    - Length: 4-5 sentences
    - Include: One specific value proposition and a call to action
    Start with 'Hi {contact_name or 'there'}', and add signature."""
)

follow_up_prompt = PromptTemplate(
    input_variables=["company", "original_email"],
    template="""Write a short follow-up email for {company} based on this original email:
    '{original_email}'
    - Length: 2-3 sentences
    - Reference the previous email
    - Add a new value proposition
    - Include a call to action
    - No signature needed."""
)

email_chain = LLMChain(llm=llm, prompt=email_prompt, output_key="initial_email")
follow_up_chain = LLMChain(llm=llm, prompt=follow_up_prompt, output_key="follow_up_email")
email_workflow = SequentialChain(
    chains=[email_chain, follow_up_chain],
    input_variables=["company", "contact_name", "industry", "pain_points", "original_email"],
    output_variables=["initial_email", "follow_up_email"]
)

# Main Execution Functions
def discover_new_leads(keywords, results_per_keyword=3):
    """Discover new leads using the agent."""
    for keyword in keywords:
        result = agent.run({
            "input": f"Scrape {results_per_keyword} companies from Crunchbase for keyword '{keyword}' and add them to the Google Sheet.",
            "keyword": keyword,
            "num_results": results_per_keyword
        })
        print(result)

def enrich_lead_data():
    """Enrich lead data with emails and website analysis."""
    leads_data = leads_sheet.get_all_records()
    leads_to_enrich = [lead for lead in leads_data if
                       (not lead['Contact Email'] or not lead['Pain Points']) and
                       lead['Website'] and lead['Status'] == 'New']
    
    if not leads_to_enrich:
        print("No leads to enrich")
        return
    
    for lead in tqdm(leads_to_enrich):
        row_index = leads_data.index(lead) + 2
        if not lead['Contact Email']:
            email = agent.run({"input": f"Find emails for website {lead['Website']}.", "website": lead['Website']})
            if email:
                leads_sheet.update_cell(row_index, 5, email)
                lead['Contact Email'] = email
        
        if not lead['Pain Points']:
            analysis = agent.run({"input": f"Analyze website {lead['Website']} for company info.", "url": lead['Website']})
            leads_sheet.update_cell(row_index, 6, analysis)
            lead['Pain Points'] = analysis
        
        leads_sheet.update_cell(row_index, 7, "Enriched")
        time.sleep(random.uniform(1, 3))

def send_initial_emails():
    """Send initial emails to enriched leads."""
    leads_data = leads_sheet.get_all_records()
    leads_to_contact = [lead for lead in leads_data if lead['Status'] == 'Enriched' and lead['Contact Email']]
    
    today = datetime.datetime.now().strftime("%Y-%m-%d")
    emails_today = [e for e in emails_sheet.get_all_records() if e['Timestamp'].startswith(today)]
    remaining_quota = MAX_EMAILS_PER_DAY - len(emails_today)
    
    if remaining_quota <= 0:
        print(f"Email quota ({MAX_EMAILS_PER_DAY}) reached")
        return
    
    leads_to_contact = leads_to_contact[:remaining_quota]
    
    for lead in leads_to_contact:
        email_result = email_workflow({
            "company": lead['Company'],
            "contact_name": lead['Contact Name'],
            "industry": lead['Industry'],
            "pain_points": lead['Pain Points'],
            "original_email": ""  # Not needed for initial email
        })
        email_body = email_result["initial_email"]
        subject = f"AI automation solutions for {lead['Company']}"
        
        success, message_id = agent.run({
            "input": f"Send email to {lead['Contact Email']} with subject '{subject}' and body '{email_body}'.",
            "recipient": lead['Contact Email'],
            "subject": subject,
            "body": email_body
        })
        
        if success:
            agent.run({
                "input": f"Log email for {lead['Company']}.",
                "company": lead['Company'],
                "recipient": lead['Contact Email'],
                "subject": subject,
                "body": email_body,
                "email_type": "Initial",
                "status": "Sent"
            })
            row_index = leads_data.index(lead) + 2
            leads_sheet.update_cell(row_index, 7, "Contacted")
            leads_sheet.update_cell(row_index, 8, datetime.datetime.now().strftime("%Y-%m-%d"))
            wait_time = random.uniform(EMAIL_WAIT_MIN, EMAIL_WAIT_MAX)
            time.sleep(wait_time * 60)

def send_follow_up_emails():
    """Send follow-up emails to leads."""
    leads_data = leads_sheet.get_all_records()
    today = datetime.datetime.now().date()
    leads_to_follow_up = []
    
    for lead in leads_data:
        if lead['Status'] == 'Contacted' and lead['Last Contact']:
            try:
                last_contact = datetime.datetime.strptime(lead['Last Contact'], "%Y-%m-%d").date()
                if (today - last_contact).days >= FOLLOW_UP_DAYS:
                    leads_to_follow_up.append(lead)
            except:
                pass
    
    today_str = datetime.datetime.now().strftime("%Y-%m-%d")
    emails_today = [e for e in emails_sheet.get_all_records() if e['Timestamp'].startswith(today_str)]
    remaining_quota = MAX_EMAILS_PER_DAY - len(emails_today)
    leads_to_follow_up = leads_to_follow_up[:remaining_quota]
    
    all_emails = emails_sheet.get_all_records()
    
    for lead in leads_to_follow_up:
        original_emails = [e for e in all_emails if e['Company'] == lead['Company'] and e['Email Type'] == 'Initial']
        if not original_emails:
            continue
        
        email_result = email_workflow({
            "company": lead['Company'],
            "contact_name": lead['Contact Name'],
            "industry": lead['Industry'],
            "pain_points": lead['Pain Points'],
            "original_email": original_emails[0]['Email Body']
        })
        follow_up_body = email_result["follow_up_email"]
        subject = f"Re: AI automation solutions for {lead['Company']}"
        
        success, message_id = agent.run({
            "input": f"Send email to {lead['Contact Email']} with subject '{subject}' and body '{follow_up_body}'.",
            "recipient": lead['Contact Email'],
            "subject": subject,
            "body": follow_up_body
        })
        
        if success:
            agent.run({
                "input": f"Log email for {lead['Company']}.",
                "company": lead['Company'],
                "recipient": lead['Contact Email'],
                "subject": subject,
                "body": follow_up_body,
                "email_type": "Follow-up",
                "status": "Sent"
            })
            row_index = leads_data.index(lead) + 2
            leads_sheet.update_cell(row_index, 7, "Follow-up")
            leads_sheet.update_cell(row_index, 8, datetime.datetime.now().strftime("%Y-%m-%d"))
            wait_time = random.uniform(EMAIL_WAIT_MIN, EMAIL_WAIT_MAX)
            time.sleep(wait_time * 60)

def main():
    """Run the autonomous sales agent."""
    print("Starting Autonomous AI Sales Agent...")
    keywords = ["saas", "fintech", "healthtech", "ecommerce", "ai"]
    discover_new_leads(keywords, results_per_keyword=3)
    enrich_lead_data()
    send_initial_emails()
    send_follow_up_emails()
    print("AI Sales Agent run completed!")

if __name__ == "__main__":
    main()